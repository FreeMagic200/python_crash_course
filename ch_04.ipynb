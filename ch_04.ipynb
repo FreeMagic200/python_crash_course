{
  "nbformat": 4,
  "nbformat_minor": 0,
  "metadata": {
    "colab": {
      "provenance": [],
      "authorship_tag": "ABX9TyMJCyllvKiWWJ89EiO38G4T",
      "include_colab_link": true
    },
    "kernelspec": {
      "name": "python3",
      "display_name": "Python 3"
    },
    "language_info": {
      "name": "python"
    }
  },
  "cells": [
    {
      "cell_type": "markdown",
      "metadata": {
        "id": "view-in-github",
        "colab_type": "text"
      },
      "source": [
        "<a href=\"https://colab.research.google.com/github/FreeMagic200/python_crash_course/blob/main/ch_04.ipynb\" target=\"_parent\"><img src=\"https://colab.research.google.com/assets/colab-badge.svg\" alt=\"Open In Colab\"/></a>"
      ]
    },
    {
      "cell_type": "markdown",
      "source": [
        "## 4-1. Pizzas\n",
        "\n",
        "*   Think of at least three kinds of your favorite pizza. Store these pizza names in a list, and then use a for loop to print the name of each pizza.\n",
        "*   Modify your for loop to print a sentence using the name of the pizza instead of printing just the name of the pizza. For each pizza you should have one line of output containing a simple statement like \"I like pepperoni pizza.\"\n",
        "*   Add a line at the end of your program, outside the for loop, that states how much you like pizza. The output should consist of three or more lines about the kinds of pizza you like and then an additional sentence, such as \"I really love pizza!\""
      ],
      "metadata": {
        "id": "Y05WMPd6VSY3"
      }
    },
    {
      "cell_type": "code",
      "source": [
        "pizzas = [\"margherita\", \"pepperoni\", \"hawaiian\"]\n",
        "\n",
        "for pizza in pizzas:\n",
        "    print(f\"I like {pizza} pizza.\")\n",
        "\n",
        "print(\"I really love pizza!\")"
      ],
      "metadata": {
        "colab": {
          "base_uri": "https://localhost:8080/"
        },
        "id": "F6NW12AYVVpH",
        "outputId": "8a0dc9ab-8dd8-4c10-e5d9-9a985f8c1bb2"
      },
      "execution_count": null,
      "outputs": [
        {
          "output_type": "stream",
          "name": "stdout",
          "text": [
            "I like margherita pizza.\n",
            "I like pepperoni pizza.\n",
            "I like hawaiian pizza.\n",
            "I really love pizza!\n"
          ]
        }
      ]
    },
    {
      "cell_type": "markdown",
      "source": [
        "## 4-3. Counting to Twenty\n",
        "\n",
        "Use a for loop to print the numbers from 1 to 20, inclusive."
      ],
      "metadata": {
        "id": "SIva5U7kL1Zq"
      }
    },
    {
      "cell_type": "code",
      "execution_count": null,
      "metadata": {
        "colab": {
          "base_uri": "https://localhost:8080/"
        },
        "id": "-O4j1pzXLrL9",
        "outputId": "e99cec56-f725-48f2-91b7-2f8752ea7e31"
      },
      "outputs": [
        {
          "output_type": "stream",
          "name": "stdout",
          "text": [
            "1\n",
            "2\n",
            "3\n",
            "4\n",
            "5\n",
            "6\n",
            "7\n",
            "8\n",
            "9\n",
            "10\n",
            "11\n",
            "12\n",
            "13\n",
            "14\n",
            "15\n",
            "16\n",
            "17\n",
            "18\n",
            "19\n",
            "20\n"
          ]
        }
      ],
      "source": [
        "for i in range(1,21):\n",
        "  print(i)"
      ]
    },
    {
      "cell_type": "markdown",
      "source": [
        "## 4-4. One Million\n",
        "\n",
        "*   Make a list of the numbers from one to one million, and then use a for loop to print the numbers. (If the output is taking too long, stop it by pressing ctrl-C or by closing the output window.)"
      ],
      "metadata": {
        "id": "kZ7dQpHsOQmV"
      }
    },
    {
      "cell_type": "code",
      "source": [
        "num_list = []\n",
        "for i in range(1,1000001):\n",
        "  num_list.append(i)"
      ],
      "metadata": {
        "id": "bB6iuSdDPQyz"
      },
      "execution_count": null,
      "outputs": []
    },
    {
      "cell_type": "code",
      "source": [
        "len(num_list)"
      ],
      "metadata": {
        "colab": {
          "base_uri": "https://localhost:8080/"
        },
        "id": "nCjU_4mMOnhT",
        "outputId": "6a2d979a-1ee8-49de-eee3-0151e4ce1716"
      },
      "execution_count": null,
      "outputs": [
        {
          "output_type": "execute_result",
          "data": {
            "text/plain": [
              "1000000"
            ]
          },
          "metadata": {},
          "execution_count": 13
        }
      ]
    },
    {
      "cell_type": "code",
      "source": [
        "for i in num_list[-1:]:\n",
        "  print(i)"
      ],
      "metadata": {
        "colab": {
          "base_uri": "https://localhost:8080/"
        },
        "id": "LkuwgjPlPNnj",
        "outputId": "457c7e56-0f23-4ac8-bce9-510d36ebf29c"
      },
      "execution_count": null,
      "outputs": [
        {
          "output_type": "stream",
          "name": "stdout",
          "text": [
            "1000000\n"
          ]
        }
      ]
    },
    {
      "cell_type": "markdown",
      "source": [
        "## 4-5. Summing a Million\n",
        "\n",
        "* Make a list of the numbers from one to one million, and then use `min()` and `max()` to make sure your list actually starts at one and ends at one million. Also, use the `sum()` function to see how quickly Python can add a million numbers."
      ],
      "metadata": {
        "id": "L8QviO1GPVdy"
      }
    },
    {
      "cell_type": "code",
      "source": [
        "print(str(min(num_list)) + '\\n')\n",
        "print(max(num_list))"
      ],
      "metadata": {
        "colab": {
          "base_uri": "https://localhost:8080/"
        },
        "id": "cQOnC4udPAt0",
        "outputId": "06b182f3-f3cf-491f-996b-553aac15f3c7"
      },
      "execution_count": null,
      "outputs": [
        {
          "output_type": "stream",
          "name": "stdout",
          "text": [
            "1\n",
            "\n",
            "1000000\n"
          ]
        }
      ]
    },
    {
      "cell_type": "code",
      "source": [
        "sum(num_list)"
      ],
      "metadata": {
        "colab": {
          "base_uri": "https://localhost:8080/"
        },
        "id": "5W0LWEk-PeMD",
        "outputId": "054ea105-d9e0-479e-b396-715c9d438fd8"
      },
      "execution_count": null,
      "outputs": [
        {
          "output_type": "execute_result",
          "data": {
            "text/plain": [
              "500000500000"
            ]
          },
          "metadata": {},
          "execution_count": 22
        }
      ]
    },
    {
      "cell_type": "markdown",
      "source": [
        "## 4-6. Odd Numbers\n",
        "\n",
        "* Use the third argument of the `range()` function to make a list of the odd numbers from 1 to 20. Use a for loop to print each number."
      ],
      "metadata": {
        "id": "uMwMYCWBQHIB"
      }
    },
    {
      "cell_type": "code",
      "source": [
        "odd_num = []\n",
        "for i in range(1,21,2):\n",
        "  odd_num.append(i)\n",
        "print(odd_num)"
      ],
      "metadata": {
        "colab": {
          "base_uri": "https://localhost:8080/"
        },
        "id": "0pAP_ig1QC05",
        "outputId": "2743e786-7de5-44c8-97d2-5bb60c798eac"
      },
      "execution_count": null,
      "outputs": [
        {
          "output_type": "stream",
          "name": "stdout",
          "text": [
            "[1, 3, 5, 7, 9, 11, 13, 15, 17, 19]\n"
          ]
        }
      ]
    },
    {
      "cell_type": "markdown",
      "source": [
        "## 4-7. Threes\n",
        "\n",
        "* Make a list of the multiples of 3 from 3 to 30. Use a for loop to print the numbers in your list."
      ],
      "metadata": {
        "id": "2Dk2qPs2Q1mw"
      }
    },
    {
      "cell_type": "code",
      "source": [
        "multi_3 = []\n",
        "for i in range(3,31,3):\n",
        "  multi_3.append(i)\n",
        "print(multi_3)"
      ],
      "metadata": {
        "colab": {
          "base_uri": "https://localhost:8080/"
        },
        "id": "fLLacO13QuLw",
        "outputId": "79ee14d7-e2f0-4d10-c061-04ac6b293a3b"
      },
      "execution_count": null,
      "outputs": [
        {
          "output_type": "stream",
          "name": "stdout",
          "text": [
            "[3, 6, 9, 12, 15, 18, 21, 24, 27, 30]\n"
          ]
        }
      ]
    },
    {
      "cell_type": "markdown",
      "source": [
        "## 4-8. Cubes\n",
        "\n",
        "* A number raised to the third power is called a cube. For example, the cube of 2 is written as `2**3` in Python. Make a list of the first 10 cubes (that is, the cube of each integer from 1 through 10), and use a for loop to print out the value of each cube."
      ],
      "metadata": {
        "id": "INmglUC_RNef"
      }
    },
    {
      "cell_type": "code",
      "source": [
        "cubes = []\n",
        "for i in range(1,11):\n",
        "  cubes.append(i**3)\n",
        "print(cubes)"
      ],
      "metadata": {
        "colab": {
          "base_uri": "https://localhost:8080/"
        },
        "id": "4GnYqg_iRKzP",
        "outputId": "02618b0e-7e0f-4147-824c-e8cf93f9b5da"
      },
      "execution_count": null,
      "outputs": [
        {
          "output_type": "stream",
          "name": "stdout",
          "text": [
            "[1, 8, 27, 64, 125, 216, 343, 512, 729, 1000]\n"
          ]
        }
      ]
    },
    {
      "cell_type": "code",
      "source": [
        "for i in range(0,len(cubes)):\n",
        "  print(cubes[i])"
      ],
      "metadata": {
        "colab": {
          "base_uri": "https://localhost:8080/"
        },
        "id": "OsT_C8o0Rlt2",
        "outputId": "023e33de-3497-4610-d2a2-396c873af9cc"
      },
      "execution_count": null,
      "outputs": [
        {
          "output_type": "stream",
          "name": "stdout",
          "text": [
            "1\n",
            "8\n",
            "27\n",
            "64\n",
            "125\n",
            "216\n",
            "343\n",
            "512\n",
            "729\n",
            "1000\n"
          ]
        }
      ]
    },
    {
      "cell_type": "markdown",
      "source": [
        "## 4-9. Cube Comprehension\n",
        "\n",
        "* Use a list comprehension to generate a list of the first 10 cubes."
      ],
      "metadata": {
        "id": "7wSbbIiwY3MI"
      }
    },
    {
      "cell_type": "code",
      "source": [
        "cubes = [number**3 for number in range(1, 11)]\n",
        "\n",
        "print(cubes)"
      ],
      "metadata": {
        "colab": {
          "base_uri": "https://localhost:8080/"
        },
        "id": "l3PPY8i6Y6f4",
        "outputId": "fcaa6bb4-fec2-4aab-9da0-66366e158379"
      },
      "execution_count": null,
      "outputs": [
        {
          "output_type": "stream",
          "name": "stdout",
          "text": [
            "[1, 8, 27, 64, 125, 216, 343, 512, 729, 1000]\n"
          ]
        }
      ]
    },
    {
      "cell_type": "markdown",
      "source": [
        "## 4-10. Slices\n",
        "\n",
        "Using one of the programs you wrote in this chapter, add several lines to the end of the program that do the following:\n",
        "\n",
        "* Print the message, \"The first three items in the list are:\". Then use a slice to print the first three items from that program's list.\n",
        "* Print the message, \"Three items from the middle of the list are:\". Use a slice to print three items from the middle of the list.\n",
        "* Print the message, \"The last three items in the list are:\". Use a slice to print the last three items in the list."
      ],
      "metadata": {
        "id": "DPrObii3SbD9"
      }
    },
    {
      "cell_type": "code",
      "source": [
        "cubes = []\n",
        "for i in range(1,11):\n",
        "  cubes.append(i**3)\n",
        "print(cubes)"
      ],
      "metadata": {
        "colab": {
          "base_uri": "https://localhost:8080/"
        },
        "id": "9LKLCe_-R8xN",
        "outputId": "9ed10f3e-cb32-4388-947b-41d8a01db0f3"
      },
      "execution_count": null,
      "outputs": [
        {
          "output_type": "stream",
          "name": "stdout",
          "text": [
            "[1, 8, 27, 64, 125, 216, 343, 512, 729, 1000]\n"
          ]
        }
      ]
    },
    {
      "cell_type": "code",
      "source": [
        "print(cubes[0:3]) # \"including start but excluding end\""
      ],
      "metadata": {
        "colab": {
          "base_uri": "https://localhost:8080/"
        },
        "id": "tmWopcFcSqxM",
        "outputId": "ff451e31-df71-4737-ec91-c15f419585ff"
      },
      "execution_count": null,
      "outputs": [
        {
          "output_type": "stream",
          "name": "stdout",
          "text": [
            "[1, 8, 27]\n"
          ]
        }
      ]
    },
    {
      "cell_type": "code",
      "source": [
        "print(str(cubes[5:8]))"
      ],
      "metadata": {
        "colab": {
          "base_uri": "https://localhost:8080/"
        },
        "id": "gP9t7cMRSyAL",
        "outputId": "b32aa4b1-2300-49fa-9f6d-55b74f21cb5e"
      },
      "execution_count": null,
      "outputs": [
        {
          "output_type": "stream",
          "name": "stdout",
          "text": [
            "[216, 343, 512]\n"
          ]
        }
      ]
    },
    {
      "cell_type": "code",
      "source": [
        "print(str(cubes[-3:]))"
      ],
      "metadata": {
        "colab": {
          "base_uri": "https://localhost:8080/"
        },
        "id": "McPD43WhUuPo",
        "outputId": "7d8eac72-db5c-4c30-9717-5fbfc746b459"
      },
      "execution_count": null,
      "outputs": [
        {
          "output_type": "stream",
          "name": "stdout",
          "text": [
            "[512, 729, 1000]\n"
          ]
        }
      ]
    },
    {
      "cell_type": "markdown",
      "source": [
        "## 4-11. My Pizzas, Your Pizzas\n",
        "\n",
        "*   Start with your program from Exercise 4-1 (page 60).\n",
        "*   Make a copy of the list of pizzas, and call it `friend_pizzas`.\n",
        "*   Then, do the following:\n",
        "\n",
        "    *   Add a new pizza to the original list.\n",
        "    *   Add a different pizza to the list `friend_pizzas`.\n",
        "    *   Prove that you have two separate lists. Print the message, \"My favorite pizzas are:\", and then use a for loop to print the first list. Print the message, \"My friend's favorite pizzas are:\", and then use a for loop to print the second list. Make sure each new pizza is stored in the appropriate list.\n",
        "    "
      ],
      "metadata": {
        "id": "nKodd4n1VFIA"
      }
    },
    {
      "cell_type": "code",
      "source": [
        "pizzas = [\"margherita\", \"pepperoni\", \"hawaiian\"]\n",
        "\n",
        "for pizza in pizzas:\n",
        "    print(f\"I like {pizza} pizza.\")\n",
        "\n",
        "print(\"I really love pizza!\")"
      ],
      "metadata": {
        "colab": {
          "base_uri": "https://localhost:8080/"
        },
        "outputId": "38587886-01a1-4863-a003-58604242edb5",
        "id": "Nm4Ly6cAaUCW"
      },
      "execution_count": 49,
      "outputs": [
        {
          "output_type": "stream",
          "name": "stdout",
          "text": [
            "I like margherita pizza.\n",
            "I like pepperoni pizza.\n",
            "I like hawaiian pizza.\n",
            "I really love pizza!\n"
          ]
        }
      ]
    },
    {
      "cell_type": "code",
      "source": [
        "friend_pizzas = pizzas\n",
        "print(friend_pizzas)"
      ],
      "metadata": {
        "colab": {
          "base_uri": "https://localhost:8080/"
        },
        "id": "BZA2XLpcVB-A",
        "outputId": "518a10ef-00ab-4d7f-86a2-55fb1a41dc11"
      },
      "execution_count": null,
      "outputs": [
        {
          "output_type": "stream",
          "name": "stdout",
          "text": [
            "['margherita', 'pepperoni', 'hawaiian']\n"
          ]
        }
      ]
    },
    {
      "cell_type": "code",
      "source": [
        "pizzas.append(\"durian\")"
      ],
      "metadata": {
        "id": "zyskzOOqaAO-"
      },
      "execution_count": null,
      "outputs": []
    },
    {
      "cell_type": "code",
      "source": [
        "friend_pizzas.append(\"four cheese\")"
      ],
      "metadata": {
        "id": "zcpXf7eGao6N"
      },
      "execution_count": null,
      "outputs": []
    },
    {
      "cell_type": "code",
      "source": [
        "print(\"My favorite pizzas are:\\n\")\n",
        "for pizza in pizzas:\n",
        "  print(pizza)"
      ],
      "metadata": {
        "colab": {
          "base_uri": "https://localhost:8080/"
        },
        "id": "-qlDRR1SbQX8",
        "outputId": "f10a3e82-36b5-496e-bdb3-c3ad3c09fc0c"
      },
      "execution_count": null,
      "outputs": [
        {
          "output_type": "stream",
          "name": "stdout",
          "text": [
            "My favorite pizzas are:\n",
            "\n",
            "margherita\n",
            "pepperoni\n",
            "hawaiian\n",
            "durian\n",
            "four cheese\n"
          ]
        }
      ]
    },
    {
      "cell_type": "code",
      "source": [
        "print(\"My friends' favorite pizzas are:\\n\")\n",
        "for pizza in friend_pizzas:\n",
        "  print(pizza)"
      ],
      "metadata": {
        "colab": {
          "base_uri": "https://localhost:8080/"
        },
        "id": "Cvb5Cv8sfKPI",
        "outputId": "938e583f-6831-441b-d8d1-612b86b23f1c"
      },
      "execution_count": null,
      "outputs": [
        {
          "output_type": "stream",
          "name": "stdout",
          "text": [
            "My friends' favorite pizzas are:\n",
            "\n",
            "margherita\n",
            "pepperoni\n",
            "hawaiian\n",
            "durian\n",
            "four cheese\n"
          ]
        }
      ]
    },
    {
      "cell_type": "markdown",
      "source": [
        "Always use list.copy() or list() when you intend to create an independent copy of a list in Python. Avoid simple assignment (=) as it only creates another reference to the same list."
      ],
      "metadata": {
        "id": "MbKyibwzf3Vl"
      }
    },
    {
      "cell_type": "code",
      "source": [
        "pizzas = [\"margherita\", \"pepperoni\", \"hawaiian\"]\n",
        "\n",
        "for pizza in pizzas:\n",
        "    print(f\"I like {pizza} pizza.\")\n",
        "\n",
        "print(\"I really love pizza!\")"
      ],
      "metadata": {
        "id": "sYT_x3dBgQ_N",
        "colab": {
          "base_uri": "https://localhost:8080/"
        },
        "outputId": "aeb72f55-ea85-4223-f0a2-ef32683f9ae4"
      },
      "execution_count": 50,
      "outputs": [
        {
          "output_type": "stream",
          "name": "stdout",
          "text": [
            "I like margherita pizza.\n",
            "I like pepperoni pizza.\n",
            "I like hawaiian pizza.\n",
            "I really love pizza!\n"
          ]
        }
      ]
    },
    {
      "cell_type": "code",
      "source": [
        "friend_pizzas = pizzas.copy()\n",
        "print(friend_pizzas)"
      ],
      "metadata": {
        "colab": {
          "base_uri": "https://localhost:8080/"
        },
        "id": "rrfZwQ5Fplw1",
        "outputId": "8f22993b-34c1-42b4-ae73-ec2462681aa7"
      },
      "execution_count": 51,
      "outputs": [
        {
          "output_type": "stream",
          "name": "stdout",
          "text": [
            "['margherita', 'pepperoni', 'hawaiian']\n"
          ]
        }
      ]
    },
    {
      "cell_type": "code",
      "source": [
        "pizzas.append(\"durian\")\n",
        "friend_pizzas.append(\"four cheese\")"
      ],
      "metadata": {
        "id": "fD9sbW0vpr1F"
      },
      "execution_count": 52,
      "outputs": []
    },
    {
      "cell_type": "code",
      "source": [
        "print(\"My favorite pizzas are:\\n\")\n",
        "for pizza in pizzas:\n",
        "  print(pizza)"
      ],
      "metadata": {
        "colab": {
          "base_uri": "https://localhost:8080/"
        },
        "id": "i8qPvrsspu2O",
        "outputId": "04112f8d-2dfb-45a4-eb2a-c0e8af5ad7a7"
      },
      "execution_count": 53,
      "outputs": [
        {
          "output_type": "stream",
          "name": "stdout",
          "text": [
            "My favorite pizzas are:\n",
            "\n",
            "margherita\n",
            "pepperoni\n",
            "hawaiian\n",
            "durian\n"
          ]
        }
      ]
    },
    {
      "cell_type": "code",
      "source": [
        "print(\"My friends' favorite pizzas are:\\n\")\n",
        "for pizza in friend_pizzas:\n",
        "  print(pizza)"
      ],
      "metadata": {
        "colab": {
          "base_uri": "https://localhost:8080/"
        },
        "id": "sEPuYRlfpxJF",
        "outputId": "a65815b1-5629-48f8-c711-8d354a847a78"
      },
      "execution_count": 54,
      "outputs": [
        {
          "output_type": "stream",
          "name": "stdout",
          "text": [
            "My friends' favorite pizzas are:\n",
            "\n",
            "margherita\n",
            "pepperoni\n",
            "hawaiian\n",
            "four cheese\n"
          ]
        }
      ]
    },
    {
      "cell_type": "markdown",
      "source": [
        "## 4-13. Buffet\n",
        "\n",
        "* A buffet-style restaurant offers only five basic foods. Think of five simple foods, and store them in a tuple.\n",
        "* Use a for loop to print each food the restaurant offers.\n",
        "* Try to modify one of the items, and make sure that Python rejects the change.\n",
        "* The restaurant changes its menu, replacing two of the items with different foods. Add a block of code that rewrites the tuple, and then use a for loop to print each of the items on the revised menu."
      ],
      "metadata": {
        "id": "6o4-xGyzsnvj"
      }
    },
    {
      "cell_type": "code",
      "source": [
        "buffet_foods = (\"fried chicken\", \"mashed potatoes\", \"green beans\", \"mac and cheese\", \"cornbread\")"
      ],
      "metadata": {
        "id": "ak2ztX-zsoCq"
      },
      "execution_count": 55,
      "outputs": []
    },
    {
      "cell_type": "code",
      "source": [
        "for food in buffet_foods:\n",
        "  print(food)"
      ],
      "metadata": {
        "colab": {
          "base_uri": "https://localhost:8080/"
        },
        "id": "XtkNbEFJswSL",
        "outputId": "afc2235c-7ded-4ac4-8814-37f4609a2e95"
      },
      "execution_count": 57,
      "outputs": [
        {
          "output_type": "stream",
          "name": "stdout",
          "text": [
            "fried chicken\n",
            "mashed potatoes\n",
            "green beans\n",
            "mac and cheese\n",
            "cornbread\n"
          ]
        }
      ]
    },
    {
      "cell_type": "code",
      "source": [
        "buffet_foods[-1] = 'beef'"
      ],
      "metadata": {
        "colab": {
          "base_uri": "https://localhost:8080/",
          "height": 143
        },
        "id": "dd7i4PBis1le",
        "outputId": "15c2773e-a89d-4d5c-9d8b-8381ae9cc367"
      },
      "execution_count": 60,
      "outputs": [
        {
          "output_type": "error",
          "ename": "TypeError",
          "evalue": "'tuple' object does not support item assignment",
          "traceback": [
            "\u001b[0;31m---------------------------------------------------------------------------\u001b[0m",
            "\u001b[0;31mTypeError\u001b[0m                                 Traceback (most recent call last)",
            "\u001b[0;32m<ipython-input-60-df9ffeab8c41>\u001b[0m in \u001b[0;36m<cell line: 0>\u001b[0;34m()\u001b[0m\n\u001b[0;32m----> 1\u001b[0;31m \u001b[0mbuffet_foods\u001b[0m\u001b[0;34m[\u001b[0m\u001b[0;34m-\u001b[0m\u001b[0;36m1\u001b[0m\u001b[0;34m]\u001b[0m \u001b[0;34m=\u001b[0m \u001b[0;34m'beef'\u001b[0m\u001b[0;34m\u001b[0m\u001b[0;34m\u001b[0m\u001b[0m\n\u001b[0m",
            "\u001b[0;31mTypeError\u001b[0m: 'tuple' object does not support item assignment"
          ]
        }
      ]
    },
    {
      "cell_type": "code",
      "source": [
        "buffet_foods = (\"fried chicken\", \"mashed potatoes\", \"green beans\", \"cake\", \"beef\")"
      ],
      "metadata": {
        "id": "UsunU04BtIFr"
      },
      "execution_count": 61,
      "outputs": []
    },
    {
      "cell_type": "code",
      "source": [
        "for food in buffet_foods:\n",
        "  print(food)"
      ],
      "metadata": {
        "colab": {
          "base_uri": "https://localhost:8080/"
        },
        "id": "RKaYmM0cthCy",
        "outputId": "1e68a736-43c2-4dcf-969e-a28a3894c917"
      },
      "execution_count": 64,
      "outputs": [
        {
          "output_type": "stream",
          "name": "stdout",
          "text": [
            "fried chicken\n",
            "mashed potatoes\n",
            "green beans\n",
            "cake\n",
            "beef\n"
          ]
        }
      ]
    }
  ]
}